{
 "cells": [
  {
   "cell_type": "markdown",
   "metadata": {},
   "source": [
    "# War Card Game - Object Oriented Programming"
   ]
  },
  {
   "cell_type": "markdown",
   "metadata": {},
   "source": [
    "Brief Game Play Overview:\n",
    "\n",
    "The game begins with a 52 card deck, shuffled and divided between two players\n",
    "\n",
    "* Without seeing cards, each player battles the other a single card at a time - highest card wins.\n",
    "    * The winner keeps the cards\n",
    "* A tie results in a 'war'\n",
    "    * Three face down cards are set (per person)\n",
    "    * The players battle with an additional single card\n",
    "    * Winner keeps all the cards\n",
    "\n",
    "The first player to run out of cards loses the game.\n",
    "    "
   ]
  },
  {
   "cell_type": "markdown",
   "metadata": {},
   "source": [
    "## Card Class"
   ]
  },
  {
   "cell_type": "markdown",
   "metadata": {},
   "source": [
    "Creating a card class that shows:\n",
    "\n",
    "* Suit - Heart, Diamond, Spade, Club\n",
    "* Rank - 2 through Ace\n",
    "* Value - Integer value for card comparison / winner"
   ]
  },
  {
   "cell_type": "code",
   "execution_count": 1,
   "metadata": {
    "ExecuteTime": {
     "end_time": "2021-01-13T05:55:17.841824Z",
     "start_time": "2021-01-13T05:55:17.837932Z"
    }
   },
   "outputs": [],
   "source": [
    "# Defined at a global level for use within class\n",
    "# suit/ranks set as tuples\n",
    "import random # for shuffling\n",
    "suits = ('Hearts','Diamonds','Spades','Clubs')\n",
    "ranks = ('Two','Three','Four','Five','Six','Seven','Eight','Nine','Ten','Jack',\n",
    "         'Queen','King','Ace')\n",
    "\n",
    "values = {'Two':2,'Three':3,'Four':4,'Five':5,'Six':6,'Seven':7,'Eight':8,\n",
    "          'Nine':9,'Ten':10,'Jack':11,'Queen':12,'King':13,'Ace':14}"
   ]
  },
  {
   "cell_type": "code",
   "execution_count": 2,
   "metadata": {
    "ExecuteTime": {
     "end_time": "2021-01-13T05:55:17.846637Z",
     "start_time": "2021-01-13T05:55:17.843658Z"
    }
   },
   "outputs": [],
   "source": [
    "class Card():\n",
    "    \n",
    "    def __init__(self,suit,rank): # instantiation\n",
    "        self.suit = suit\n",
    "        self.rank = rank\n",
    "        self.value = values[rank]\n",
    "        \n",
    "    def __str__(self): # to print instance/card class\n",
    "        return self.rank + ' of ' + self.suit"
   ]
  },
  {
   "cell_type": "markdown",
   "metadata": {},
   "source": [
    "Values must match uppercase"
   ]
  },
  {
   "cell_type": "code",
   "execution_count": 3,
   "metadata": {
    "ExecuteTime": {
     "end_time": "2021-01-13T05:55:17.850729Z",
     "start_time": "2021-01-13T05:55:17.848532Z"
    }
   },
   "outputs": [],
   "source": [
    "two_hearts = Card('Hearts','Two')\n",
    "three_of_clubs = Card('Clubs','Three')"
   ]
  },
  {
   "cell_type": "code",
   "execution_count": 4,
   "metadata": {
    "ExecuteTime": {
     "end_time": "2021-01-13T05:55:17.860009Z",
     "start_time": "2021-01-13T05:55:17.852735Z"
    }
   },
   "outputs": [
    {
     "data": {
      "text/plain": [
       "True"
      ]
     },
     "execution_count": 4,
     "metadata": {},
     "output_type": "execute_result"
    }
   ],
   "source": [
    "# Test to check value\n",
    "two_hearts.value < three_of_clubs.value"
   ]
  },
  {
   "cell_type": "markdown",
   "metadata": {},
   "source": [
    "# Deck Class"
   ]
  },
  {
   "cell_type": "code",
   "execution_count": 5,
   "metadata": {
    "ExecuteTime": {
     "end_time": "2021-01-13T05:55:17.865187Z",
     "start_time": "2021-01-13T05:55:17.861413Z"
    }
   },
   "outputs": [],
   "source": [
    "class Deck():\n",
    "    \n",
    "    def __init__(self): # create 52 card objects\n",
    "        self.all_cards = []\n",
    "        \n",
    "        for suit in suits:\n",
    "            for rank in ranks:\n",
    "                created_card = Card(suit,rank)\n",
    "                \n",
    "                self.all_cards.append(created_card)\n",
    "                \n",
    "    def shuffle(self): # using random library\n",
    "        # Shuffling occurs in place (nothing returned)\n",
    "        # Can't be assigned to a variable\n",
    "        random.shuffle(self.all_cards)\n",
    "        \n",
    "    def deal_one(self): # function to return a card/remove from deck\n",
    "        return self.all_cards.pop()"
   ]
  },
  {
   "cell_type": "markdown",
   "metadata": {},
   "source": [
    "### Creating a deck"
   ]
  },
  {
   "cell_type": "code",
   "execution_count": 6,
   "metadata": {
    "ExecuteTime": {
     "end_time": "2021-01-13T05:55:17.868313Z",
     "start_time": "2021-01-13T05:55:17.866498Z"
    }
   },
   "outputs": [],
   "source": [
    "# Create new deck\n",
    "new_deck = Deck()"
   ]
  },
  {
   "cell_type": "markdown",
   "metadata": {
    "ExecuteTime": {
     "end_time": "2021-01-13T05:13:10.471078Z",
     "start_time": "2021-01-13T05:13:10.464401Z"
    }
   },
   "source": [
    "``` Python\n",
    "# Code to check all\n",
    "for card_object in new_deck.all_cards:\n",
    "    print(card_object)\n",
    "```"
   ]
  },
  {
   "cell_type": "code",
   "execution_count": 7,
   "metadata": {
    "ExecuteTime": {
     "end_time": "2021-01-13T05:55:17.872395Z",
     "start_time": "2021-01-13T05:55:17.869620Z"
    }
   },
   "outputs": [
    {
     "name": "stdout",
     "output_type": "stream",
     "text": [
      "Two of Hearts\n",
      "Ace of Clubs\n"
     ]
    }
   ],
   "source": [
    "# Check Card Creation\n",
    "first_card = new_deck.all_cards[0]\n",
    "bottom_card = new_deck.all_cards[-1]\n",
    "\n",
    "print(first_card)\n",
    "print(bottom_card)"
   ]
  },
  {
   "cell_type": "markdown",
   "metadata": {},
   "source": [
    "### Shuffling"
   ]
  },
  {
   "cell_type": "code",
   "execution_count": 8,
   "metadata": {
    "ExecuteTime": {
     "end_time": "2021-01-13T05:55:17.877497Z",
     "start_time": "2021-01-13T05:55:17.874995Z"
    }
   },
   "outputs": [
    {
     "name": "stdout",
     "output_type": "stream",
     "text": [
      "Seven of Spades\n"
     ]
    }
   ],
   "source": [
    "# Check shuffle functionality\n",
    "new_deck.shuffle()\n",
    "print(new_deck.all_cards[-1]) # checking last card"
   ]
  },
  {
   "cell_type": "markdown",
   "metadata": {},
   "source": [
    "### Drawing / removing from deck"
   ]
  },
  {
   "cell_type": "code",
   "execution_count": 9,
   "metadata": {
    "ExecuteTime": {
     "end_time": "2021-01-13T05:55:17.881656Z",
     "start_time": "2021-01-13T05:55:17.879120Z"
    }
   },
   "outputs": [
    {
     "name": "stdout",
     "output_type": "stream",
     "text": [
      "Your card is the Seven of Spades\n",
      "There are 51 cards left in the deck.\n"
     ]
    }
   ],
   "source": [
    "# Check functionality\n",
    "mycard = new_deck.deal_one()\n",
    "\n",
    "print(f'Your card is the {mycard}')\n",
    "print(f'There are {len(new_deck.all_cards)} cards left in the deck.')"
   ]
  },
  {
   "cell_type": "markdown",
   "metadata": {},
   "source": [
    "# Player Class"
   ]
  },
  {
   "cell_type": "code",
   "execution_count": 10,
   "metadata": {
    "ExecuteTime": {
     "end_time": "2021-01-13T05:55:17.886903Z",
     "start_time": "2021-01-13T05:55:17.883095Z"
    }
   },
   "outputs": [],
   "source": [
    "class Player():\n",
    "    \n",
    "    def __init__(self,name):\n",
    "        self.name = name # player creation\n",
    "        self.all_cards = [] # player hand\n",
    "        \n",
    "    def remove_one(self):\n",
    "        return self.all_cards.pop(0) # removing top/beginning card\n",
    "    \n",
    "    def add_cards(self,new_cards):\n",
    "        if type(new_cards) == type([]):\n",
    "            # multiple card objects\n",
    "            self.all_cards.extend(new_cards) # can't append / nested list\n",
    "        else:\n",
    "            # single card object\n",
    "            self.all_cards.append(new_cards)\n",
    "    \n",
    "    def __str__(self): # player card check\n",
    "        return f'Player {self.name} has {len(self.all_cards)} cards.'"
   ]
  },
  {
   "cell_type": "markdown",
   "metadata": {},
   "source": [
    "Note: you cant append multiple card objects because you'll end up with a nested list\n",
    "causing you to draw more than card object at once."
   ]
  },
  {
   "cell_type": "markdown",
   "metadata": {},
   "source": [
    "### Creating a player"
   ]
  },
  {
   "cell_type": "code",
   "execution_count": 11,
   "metadata": {
    "ExecuteTime": {
     "end_time": "2021-01-13T05:55:17.890350Z",
     "start_time": "2021-01-13T05:55:17.888134Z"
    }
   },
   "outputs": [
    {
     "name": "stdout",
     "output_type": "stream",
     "text": [
      "Player Miguel has 0 cards.\n"
     ]
    }
   ],
   "source": [
    "# New Player - Hand/Card Check\n",
    "new_player = Player('Miguel')\n",
    "print(new_player)"
   ]
  },
  {
   "cell_type": "markdown",
   "metadata": {},
   "source": [
    "### Add Card Functionality"
   ]
  },
  {
   "cell_type": "code",
   "execution_count": 12,
   "metadata": {
    "ExecuteTime": {
     "end_time": "2021-01-13T05:55:17.894583Z",
     "start_time": "2021-01-13T05:55:17.891888Z"
    }
   },
   "outputs": [
    {
     "name": "stdout",
     "output_type": "stream",
     "text": [
      "Seven of Spades\n"
     ]
    }
   ],
   "source": [
    "print(mycard)"
   ]
  },
  {
   "cell_type": "code",
   "execution_count": 13,
   "metadata": {
    "ExecuteTime": {
     "end_time": "2021-01-13T05:55:17.899432Z",
     "start_time": "2021-01-13T05:55:17.895848Z"
    }
   },
   "outputs": [
    {
     "name": "stdout",
     "output_type": "stream",
     "text": [
      "Player Miguel has 1 cards.\n",
      "Player's top card is Seven of Spades\n"
     ]
    }
   ],
   "source": [
    "# Adding player card\n",
    "new_player.add_cards(mycard)\n",
    "print(new_player) # Verifying\n",
    "\n",
    "print(f\"Player's top card is {new_player.all_cards[0]}\")"
   ]
  },
  {
   "cell_type": "code",
   "execution_count": 15,
   "metadata": {
    "ExecuteTime": {
     "end_time": "2021-01-13T05:55:46.371844Z",
     "start_time": "2021-01-13T05:55:46.369310Z"
    }
   },
   "outputs": [],
   "source": [
    "# Checking add functionality\n",
    "new_player.add_cards([mycard,mycard,mycard])\n",
    "\n",
    "print(new_player) # Checking for 4 cards"
   ]
  },
  {
   "cell_type": "markdown",
   "metadata": {},
   "source": [
    "### Remove Card Functionality"
   ]
  },
  {
   "cell_type": "code",
   "execution_count": 17,
   "metadata": {
    "ExecuteTime": {
     "end_time": "2021-01-13T05:58:19.396366Z",
     "start_time": "2021-01-13T05:58:19.393536Z"
    }
   },
   "outputs": [
    {
     "name": "stdout",
     "output_type": "stream",
     "text": [
      "Player Miguel has 3 cards.\n"
     ]
    }
   ],
   "source": [
    "# Checking remove functionality\n",
    "new_player.remove_one()\n",
    "\n",
    "print(new_player) # Checking for 3 cards"
   ]
  },
  {
   "cell_type": "markdown",
   "metadata": {},
   "source": [
    "# Game Logic"
   ]
  },
  {
   "cell_type": "code",
   "execution_count": null,
   "metadata": {},
   "outputs": [],
   "source": []
  },
  {
   "cell_type": "code",
   "execution_count": null,
   "metadata": {},
   "outputs": [],
   "source": []
  },
  {
   "cell_type": "code",
   "execution_count": null,
   "metadata": {},
   "outputs": [],
   "source": []
  },
  {
   "cell_type": "markdown",
   "metadata": {},
   "source": [
    "#### Source Cited\n",
    "\n",
    "The main OOP code and layout is available in Udemy Course '2021 Complete Python Bootcamp From Zero to Hero in Python' by Jose Portilla"
   ]
  },
  {
   "cell_type": "code",
   "execution_count": null,
   "metadata": {},
   "outputs": [],
   "source": []
  }
 ],
 "metadata": {
  "kernelspec": {
   "display_name": "Python [conda env:learn-env] *",
   "language": "python",
   "name": "conda-env-learn-env-py"
  },
  "language_info": {
   "codemirror_mode": {
    "name": "ipython",
    "version": 3
   },
   "file_extension": ".py",
   "mimetype": "text/x-python",
   "name": "python",
   "nbconvert_exporter": "python",
   "pygments_lexer": "ipython3",
   "version": "3.6.9"
  },
  "toc": {
   "base_numbering": 1,
   "nav_menu": {},
   "number_sections": true,
   "sideBar": true,
   "skip_h1_title": false,
   "title_cell": "Table of Contents",
   "title_sidebar": "Contents",
   "toc_cell": false,
   "toc_position": {},
   "toc_section_display": true,
   "toc_window_display": true
  }
 },
 "nbformat": 4,
 "nbformat_minor": 2
}
